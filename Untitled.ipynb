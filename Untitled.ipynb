{
 "cells": [
  {
   "cell_type": "code",
   "execution_count": 1,
   "id": "f93fdb62-7f10-4058-b8e0-4abac4c64882",
   "metadata": {},
   "outputs": [],
   "source": [
    "import tkinter as tk\n",
    "\n",
    "# Função para exibir o estado dos Checkbuttons\n",
    "def mostrar_selecao():\n",
    "    estado1 = var_check1.get()\n",
    "    estado2 = var_check2.get()\n",
    "    \n",
    "    # Exibindo o estado dos checkbuttons na tela\n",
    "    resultado.config(text=f\"Opção 1: {'Selecionada' if estado1 else 'Não selecionada'}\\n\"\n",
    "                          f\"Opção 2: {'Selecionada' if estado2 else 'Não selecionada'}\")\n",
    "\n",
    "# Criando a janela principal\n",
    "janela = tk.Tk()\n",
    "janela.title(\"Exemplo de Checkbutton\")\n",
    "\n",
    "# Criando as variáveis para armazenar o estado dos Checkbuttons\n",
    "var_check1 = tk.IntVar()\n",
    "var_check2 = tk.IntVar()\n",
    "\n",
    "# Criando os Checkbuttons\n",
    "check1 = tk.Checkbutton(janela, text=\"Aceitar Termos e Condições\", variable=var_check1)\n",
    "check2 = tk.Checkbutton(janela, text=\"Receber Notificações\", variable=var_check2)\n",
    "\n",
    "# Criando um botão para mostrar o estado das opções\n",
    "botao_mostrar = tk.Button(janela, text=\"Mostrar Seleções\", command=mostrar_selecao)\n",
    "\n",
    "# Criando um label para mostrar os resultados\n",
    "resultado = tk.Label(janela, text=\"\")\n",
    "\n",
    "# Adicionando widgets na janela\n",
    "check1.pack(pady=10)\n",
    "check2.pack(pady=10)\n",
    "botao_mostrar.pack(pady=10)\n",
    "resultado.pack(pady=10)\n",
    "\n",
    "# Iniciar a interface gráfica\n",
    "janela.mainloop()\n"
   ]
  },
  {
   "cell_type": "code",
   "execution_count": null,
   "id": "91a1e6e3-8d98-405b-89fe-3bac646497d5",
   "metadata": {},
   "outputs": [],
   "source": []
  }
 ],
 "metadata": {
  "kernelspec": {
   "display_name": "Python 3 (ipykernel)",
   "language": "python",
   "name": "python3"
  },
  "language_info": {
   "codemirror_mode": {
    "name": "ipython",
    "version": 3
   },
   "file_extension": ".py",
   "mimetype": "text/x-python",
   "name": "python",
   "nbconvert_exporter": "python",
   "pygments_lexer": "ipython3",
   "version": "3.12.7"
  }
 },
 "nbformat": 4,
 "nbformat_minor": 5
}
